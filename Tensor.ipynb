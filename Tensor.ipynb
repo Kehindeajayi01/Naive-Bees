{
  "nbformat": 4,
  "nbformat_minor": 0,
  "metadata": {
    "colab": {
      "name": "Tensor.ipynb",
      "provenance": [],
      "authorship_tag": "ABX9TyNAMPUf8JFueMFu9YtPacPV",
      "include_colab_link": true
    },
    "kernelspec": {
      "name": "python3",
      "display_name": "Python 3"
    }
  },
  "cells": [
    {
      "cell_type": "markdown",
      "metadata": {
        "id": "view-in-github",
        "colab_type": "text"
      },
      "source": [
        "<a href=\"https://colab.research.google.com/github/Kehindeajayi01/Naive-Bees/blob/master/Tensor.ipynb\" target=\"_parent\"><img src=\"https://colab.research.google.com/assets/colab-badge.svg\" alt=\"Open In Colab\"/></a>"
      ]
    },
    {
      "cell_type": "code",
      "metadata": {
        "id": "gYe9EafJZk6X",
        "colab_type": "code",
        "colab": {
          "base_uri": "https://localhost:8080/",
          "height": 34
        },
        "outputId": "0e9af74e-a2d1-4364-f899-a93b21bed6da"
      },
      "source": [
        "import numpy as np\n",
        "x = np.array(15)\n",
        "x"
      ],
      "execution_count": 1,
      "outputs": [
        {
          "output_type": "execute_result",
          "data": {
            "text/plain": [
              "array(15)"
            ]
          },
          "metadata": {
            "tags": []
          },
          "execution_count": 1
        }
      ]
    },
    {
      "cell_type": "markdown",
      "metadata": {
        "id": "IoSNRZvZZ80o",
        "colab_type": "text"
      },
      "source": [
        "## Dimension or Axis of x"
      ]
    },
    {
      "cell_type": "code",
      "metadata": {
        "id": "6oU56BwHZxXd",
        "colab_type": "code",
        "colab": {
          "base_uri": "https://localhost:8080/",
          "height": 34
        },
        "outputId": "af02d618-8df6-4556-a9e3-eebe2d81d7df"
      },
      "source": [
        "x.ndim"
      ],
      "execution_count": 2,
      "outputs": [
        {
          "output_type": "execute_result",
          "data": {
            "text/plain": [
              "0"
            ]
          },
          "metadata": {
            "tags": []
          },
          "execution_count": 2
        }
      ]
    },
    {
      "cell_type": "markdown",
      "metadata": {
        "id": "7nJcgBIwae2w",
        "colab_type": "text"
      },
      "source": [
        "## I dimensional Tensor\n",
        "* An array of numbers is called a vector or 1D tensor"
      ]
    },
    {
      "cell_type": "markdown",
      "metadata": {
        "id": "mEvN4F2cabYg",
        "colab_type": "text"
      },
      "source": [
        ""
      ]
    },
    {
      "cell_type": "code",
      "metadata": {
        "id": "WelIf6nPa8rJ",
        "colab_type": "code",
        "colab": {
          "base_uri": "https://localhost:8080/",
          "height": 34
        },
        "outputId": "e51327e5-2044-4f5a-b359-03398465ad1b"
      },
      "source": [
        "y = np.array([12, 3, 10, 6])\n",
        "y.ndim"
      ],
      "execution_count": 3,
      "outputs": [
        {
          "output_type": "execute_result",
          "data": {
            "text/plain": [
              "1"
            ]
          },
          "metadata": {
            "tags": []
          },
          "execution_count": 3
        }
      ]
    },
    {
      "cell_type": "code",
      "metadata": {
        "id": "n4BLde-9bLpx",
        "colab_type": "code",
        "colab": {
          "base_uri": "https://localhost:8080/",
          "height": 34
        },
        "outputId": "1eaf89fd-4c1e-4653-b326-63f6bf7b0fcf"
      },
      "source": [
        "z = np.array([[2,3],[1,2]])\n",
        "z.ndim      # 2D tensor or matrix"
      ],
      "execution_count": 4,
      "outputs": [
        {
          "output_type": "execute_result",
          "data": {
            "text/plain": [
              "2"
            ]
          },
          "metadata": {
            "tags": []
          },
          "execution_count": 4
        }
      ]
    },
    {
      "cell_type": "code",
      "metadata": {
        "id": "tcqX_hLwbr_u",
        "colab_type": "code",
        "colab": {
          "base_uri": "https://localhost:8080/",
          "height": 34
        },
        "outputId": "260a99a6-0861-4b4e-a20d-71c0bad63617"
      },
      "source": [
        "p = np.array([[[1,2,5],[1,3,4],[2,4,7]],[[3,5,1],[4,2,0],[1,9,6]]])\n",
        "p.ndim    # 3D tensor"
      ],
      "execution_count": 7,
      "outputs": [
        {
          "output_type": "execute_result",
          "data": {
            "text/plain": [
              "3"
            ]
          },
          "metadata": {
            "tags": []
          },
          "execution_count": 7
        }
      ]
    },
    {
      "cell_type": "code",
      "metadata": {
        "id": "TxsVDqg-cVZz",
        "colab_type": "code",
        "colab": {
          "base_uri": "https://localhost:8080/",
          "height": 34
        },
        "outputId": "1ed6b7d4-b337-4e39-db07-922225cba619"
      },
      "source": [
        "p.shape, p.dtype"
      ],
      "execution_count": 9,
      "outputs": [
        {
          "output_type": "execute_result",
          "data": {
            "text/plain": [
              "((2, 3, 3), dtype('int64'))"
            ]
          },
          "metadata": {
            "tags": []
          },
          "execution_count": 9
        }
      ]
    },
    {
      "cell_type": "markdown",
      "metadata": {
        "id": "xwgc69B8f_m5",
        "colab_type": "text"
      },
      "source": [
        "## Downloading the MNIST datasets"
      ]
    },
    {
      "cell_type": "code",
      "metadata": {
        "id": "HIPInW7LdnMC",
        "colab_type": "code",
        "colab": {
          "base_uri": "https://localhost:8080/",
          "height": 52
        },
        "outputId": "5e7f4771-9514-4784-b44c-de61bb0b29a9"
      },
      "source": [
        "from keras.datasets import mnist\n",
        "(train_images, train_labels), (test_images, test_labels) = mnist.load_data()"
      ],
      "execution_count": 10,
      "outputs": [
        {
          "output_type": "stream",
          "text": [
            "Downloading data from https://s3.amazonaws.com/img-datasets/mnist.npz\n",
            "11493376/11490434 [==============================] - 1s 0us/step\n"
          ],
          "name": "stdout"
        }
      ]
    },
    {
      "cell_type": "code",
      "metadata": {
        "id": "voAYZWEqe2PU",
        "colab_type": "code",
        "colab": {
          "base_uri": "https://localhost:8080/",
          "height": 34
        },
        "outputId": "a2f3c563-2e3d-4e7f-9d96-da16e08dac80"
      },
      "source": [
        "train_images.ndim, train_labels.ndim, train_images.dtype"
      ],
      "execution_count": 12,
      "outputs": [
        {
          "output_type": "execute_result",
          "data": {
            "text/plain": [
              "(3, 1, dtype('uint8'))"
            ]
          },
          "metadata": {
            "tags": []
          },
          "execution_count": 12
        }
      ]
    },
    {
      "cell_type": "markdown",
      "metadata": {
        "id": "zd9m5h6ogFTh",
        "colab_type": "text"
      },
      "source": [
        "## Displaying the Fourth digit"
      ]
    },
    {
      "cell_type": "code",
      "metadata": {
        "id": "c-dg7B_se-F2",
        "colab_type": "code",
        "colab": {
          "base_uri": "https://localhost:8080/",
          "height": 265
        },
        "outputId": "7f21abe7-dfe5-4815-c9c6-08d6f22359e1"
      },
      "source": [
        "import matplotlib.pyplot as plt\n",
        "digit = train_images[4]\n",
        "plt.imshow(digit)\n",
        "plt.show()\n"
      ],
      "execution_count": 13,
      "outputs": [
        {
          "output_type": "display_data",
          "data": {
            "image/png": "[encoded data removed]",
            "text/plain": [
              "<Figure size 432x288 with 1 Axes>"
            ]
          },
          "metadata": {
            "tags": []
          }
        }
      ]
    },
    {
      "cell_type": "markdown",
      "metadata": {
        "id": "AX8htbakhHJw",
        "colab_type": "text"
      },
      "source": [
        "## Manipulating tensors in Numpy"
      ]
    },
    {
      "cell_type": "code",
      "metadata": {
        "id": "7Hzp-7WBf6dU",
        "colab_type": "code",
        "colab": {
          "base_uri": "https://localhost:8080/",
          "height": 34
        },
        "outputId": "d889bae9-0749-4838-fffd-89fadc49abaf"
      },
      "source": [
        "my_slice = train_images[10:100]\n",
        "my_slice.shape  # train_images contains 60,000 digits, each of length and width 28"
      ],
      "execution_count": 15,
      "outputs": [
        {
          "output_type": "execute_result",
          "data": {
            "text/plain": [
              "(90, 28, 28)"
            ]
          },
          "metadata": {
            "tags": []
          },
          "execution_count": 15
        }
      ]
    },
    {
      "cell_type": "code",
      "metadata": {
        "id": "bqr8aZumhD79",
        "colab_type": "code",
        "colab": {
          "base_uri": "https://localhost:8080/",
          "height": 34
        },
        "outputId": "994c1505-ec25-468f-8470-abf832400a1d"
      },
      "source": [
        "# Alternative way\n",
        "my_slice = train_images[10:100,:,:]\n",
        "my_slice.shape"
      ],
      "execution_count": 17,
      "outputs": [
        {
          "output_type": "execute_result",
          "data": {
            "text/plain": [
              "(90, 28, 28)"
            ]
          },
          "metadata": {
            "tags": []
          },
          "execution_count": 17
        }
      ]
    },
    {
      "cell_type": "code",
      "metadata": {
        "id": "C18kHlGIh8y2",
        "colab_type": "code",
        "colab": {
          "base_uri": "https://localhost:8080/",
          "height": 34
        },
        "outputId": "7904114d-dec7-4b0c-cb58-6109479d9688"
      },
      "source": [
        "# selecting 14 by 14 pixels of all images\n",
        "my_slice = train_images[:, 14:, 14:]\n",
        "my_slice.shape"
      ],
      "execution_count": 19,
      "outputs": [
        {
          "output_type": "execute_result",
          "data": {
            "text/plain": [
              "(60000, 14, 14)"
            ]
          },
          "metadata": {
            "tags": []
          },
          "execution_count": 19
        }
      ]
    },
    {
      "cell_type": "code",
      "metadata": {
        "id": "u3h2FjEiiWd6",
        "colab_type": "code",
        "colab": {}
      },
      "source": [
        ""
      ],
      "execution_count": 0,
      "outputs": []
    }
  ]
}